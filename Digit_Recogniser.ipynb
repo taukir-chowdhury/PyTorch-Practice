{
  "nbformat": 4,
  "nbformat_minor": 0,
  "metadata": {
    "colab": {
      "name": "Digit Recogniser.ipynb",
      "provenance": [],
      "collapsed_sections": [],
      "authorship_tag": "ABX9TyMSfmmtoy0RzeUPIF7oOpjo",
      "include_colab_link": true
    },
    "kernelspec": {
      "name": "python3",
      "display_name": "Python 3"
    },
    "language_info": {
      "name": "python"
    },
    "widgets": {
      "application/vnd.jupyter.widget-state+json": {
        "b60e4ced6f854613bb4c1d6beaf279a3": {
          "model_module": "@jupyter-widgets/controls",
          "model_name": "HBoxModel",
          "model_module_version": "1.5.0",
          "state": {
            "_view_name": "HBoxView",
            "_dom_classes": [],
            "_model_name": "HBoxModel",
            "_view_module": "@jupyter-widgets/controls",
            "_model_module_version": "1.5.0",
            "_view_count": null,
            "_view_module_version": "1.5.0",
            "box_style": "",
            "layout": "IPY_MODEL_e10ee90408ab43e59bbb69b0aaa6ebba",
            "_model_module": "@jupyter-widgets/controls",
            "children": [
              "IPY_MODEL_28587d721b524ab6af655c05d2727379",
              "IPY_MODEL_f0a17713e3ef48889b9a67bb0777097e",
              "IPY_MODEL_5b3693f8a7b048388914a32f58dcf698"
            ]
          }
        },
        "e10ee90408ab43e59bbb69b0aaa6ebba": {
          "model_module": "@jupyter-widgets/base",
          "model_name": "LayoutModel",
          "model_module_version": "1.2.0",
          "state": {
            "_view_name": "LayoutView",
            "grid_template_rows": null,
            "right": null,
            "justify_content": null,
            "_view_module": "@jupyter-widgets/base",
            "overflow": null,
            "_model_module_version": "1.2.0",
            "_view_count": null,
            "flex_flow": null,
            "width": null,
            "min_width": null,
            "border": null,
            "align_items": null,
            "bottom": null,
            "_model_module": "@jupyter-widgets/base",
            "top": null,
            "grid_column": null,
            "overflow_y": null,
            "overflow_x": null,
            "grid_auto_flow": null,
            "grid_area": null,
            "grid_template_columns": null,
            "flex": null,
            "_model_name": "LayoutModel",
            "justify_items": null,
            "grid_row": null,
            "max_height": null,
            "align_content": null,
            "visibility": null,
            "align_self": null,
            "height": null,
            "min_height": null,
            "padding": null,
            "grid_auto_rows": null,
            "grid_gap": null,
            "max_width": null,
            "order": null,
            "_view_module_version": "1.2.0",
            "grid_template_areas": null,
            "object_position": null,
            "object_fit": null,
            "grid_auto_columns": null,
            "margin": null,
            "display": null,
            "left": null
          }
        },
        "28587d721b524ab6af655c05d2727379": {
          "model_module": "@jupyter-widgets/controls",
          "model_name": "HTMLModel",
          "model_module_version": "1.5.0",
          "state": {
            "_view_name": "HTMLView",
            "style": "IPY_MODEL_beeebdbdcf1b42f9b5cf6707b5bdedb5",
            "_dom_classes": [],
            "description": "",
            "_model_name": "HTMLModel",
            "placeholder": "​",
            "_view_module": "@jupyter-widgets/controls",
            "_model_module_version": "1.5.0",
            "value": "",
            "_view_count": null,
            "_view_module_version": "1.5.0",
            "description_tooltip": null,
            "_model_module": "@jupyter-widgets/controls",
            "layout": "IPY_MODEL_221a26d8427c4187b4cd72464e03a5cb"
          }
        },
        "f0a17713e3ef48889b9a67bb0777097e": {
          "model_module": "@jupyter-widgets/controls",
          "model_name": "FloatProgressModel",
          "model_module_version": "1.5.0",
          "state": {
            "_view_name": "ProgressView",
            "style": "IPY_MODEL_ebf2e8224fc74354a3075e9d7f47c3f4",
            "_dom_classes": [],
            "description": "",
            "_model_name": "FloatProgressModel",
            "bar_style": "success",
            "max": 9912422,
            "_view_module": "@jupyter-widgets/controls",
            "_model_module_version": "1.5.0",
            "value": 9912422,
            "_view_count": null,
            "_view_module_version": "1.5.0",
            "orientation": "horizontal",
            "min": 0,
            "description_tooltip": null,
            "_model_module": "@jupyter-widgets/controls",
            "layout": "IPY_MODEL_be5729ca2db544869db4a58bc5821274"
          }
        },
        "5b3693f8a7b048388914a32f58dcf698": {
          "model_module": "@jupyter-widgets/controls",
          "model_name": "HTMLModel",
          "model_module_version": "1.5.0",
          "state": {
            "_view_name": "HTMLView",
            "style": "IPY_MODEL_989fb6e3c4174ce2a6281ead7fe9a805",
            "_dom_classes": [],
            "description": "",
            "_model_name": "HTMLModel",
            "placeholder": "​",
            "_view_module": "@jupyter-widgets/controls",
            "_model_module_version": "1.5.0",
            "value": " 9913344/? [00:00&lt;00:00, 54879456.27it/s]",
            "_view_count": null,
            "_view_module_version": "1.5.0",
            "description_tooltip": null,
            "_model_module": "@jupyter-widgets/controls",
            "layout": "IPY_MODEL_9b2a4965461a466b8d9ac7ed6f127463"
          }
        },
        "beeebdbdcf1b42f9b5cf6707b5bdedb5": {
          "model_module": "@jupyter-widgets/controls",
          "model_name": "DescriptionStyleModel",
          "model_module_version": "1.5.0",
          "state": {
            "_view_name": "StyleView",
            "_model_name": "DescriptionStyleModel",
            "description_width": "",
            "_view_module": "@jupyter-widgets/base",
            "_model_module_version": "1.5.0",
            "_view_count": null,
            "_view_module_version": "1.2.0",
            "_model_module": "@jupyter-widgets/controls"
          }
        },
        "221a26d8427c4187b4cd72464e03a5cb": {
          "model_module": "@jupyter-widgets/base",
          "model_name": "LayoutModel",
          "model_module_version": "1.2.0",
          "state": {
            "_view_name": "LayoutView",
            "grid_template_rows": null,
            "right": null,
            "justify_content": null,
            "_view_module": "@jupyter-widgets/base",
            "overflow": null,
            "_model_module_version": "1.2.0",
            "_view_count": null,
            "flex_flow": null,
            "width": null,
            "min_width": null,
            "border": null,
            "align_items": null,
            "bottom": null,
            "_model_module": "@jupyter-widgets/base",
            "top": null,
            "grid_column": null,
            "overflow_y": null,
            "overflow_x": null,
            "grid_auto_flow": null,
            "grid_area": null,
            "grid_template_columns": null,
            "flex": null,
            "_model_name": "LayoutModel",
            "justify_items": null,
            "grid_row": null,
            "max_height": null,
            "align_content": null,
            "visibility": null,
            "align_self": null,
            "height": null,
            "min_height": null,
            "padding": null,
            "grid_auto_rows": null,
            "grid_gap": null,
            "max_width": null,
            "order": null,
            "_view_module_version": "1.2.0",
            "grid_template_areas": null,
            "object_position": null,
            "object_fit": null,
            "grid_auto_columns": null,
            "margin": null,
            "display": null,
            "left": null
          }
        },
        "ebf2e8224fc74354a3075e9d7f47c3f4": {
          "model_module": "@jupyter-widgets/controls",
          "model_name": "ProgressStyleModel",
          "model_module_version": "1.5.0",
          "state": {
            "_view_name": "StyleView",
            "_model_name": "ProgressStyleModel",
            "description_width": "",
            "_view_module": "@jupyter-widgets/base",
            "_model_module_version": "1.5.0",
            "_view_count": null,
            "_view_module_version": "1.2.0",
            "bar_color": null,
            "_model_module": "@jupyter-widgets/controls"
          }
        },
        "be5729ca2db544869db4a58bc5821274": {
          "model_module": "@jupyter-widgets/base",
          "model_name": "LayoutModel",
          "model_module_version": "1.2.0",
          "state": {
            "_view_name": "LayoutView",
            "grid_template_rows": null,
            "right": null,
            "justify_content": null,
            "_view_module": "@jupyter-widgets/base",
            "overflow": null,
            "_model_module_version": "1.2.0",
            "_view_count": null,
            "flex_flow": null,
            "width": null,
            "min_width": null,
            "border": null,
            "align_items": null,
            "bottom": null,
            "_model_module": "@jupyter-widgets/base",
            "top": null,
            "grid_column": null,
            "overflow_y": null,
            "overflow_x": null,
            "grid_auto_flow": null,
            "grid_area": null,
            "grid_template_columns": null,
            "flex": null,
            "_model_name": "LayoutModel",
            "justify_items": null,
            "grid_row": null,
            "max_height": null,
            "align_content": null,
            "visibility": null,
            "align_self": null,
            "height": null,
            "min_height": null,
            "padding": null,
            "grid_auto_rows": null,
            "grid_gap": null,
            "max_width": null,
            "order": null,
            "_view_module_version": "1.2.0",
            "grid_template_areas": null,
            "object_position": null,
            "object_fit": null,
            "grid_auto_columns": null,
            "margin": null,
            "display": null,
            "left": null
          }
        },
        "989fb6e3c4174ce2a6281ead7fe9a805": {
          "model_module": "@jupyter-widgets/controls",
          "model_name": "DescriptionStyleModel",
          "model_module_version": "1.5.0",
          "state": {
            "_view_name": "StyleView",
            "_model_name": "DescriptionStyleModel",
            "description_width": "",
            "_view_module": "@jupyter-widgets/base",
            "_model_module_version": "1.5.0",
            "_view_count": null,
            "_view_module_version": "1.2.0",
            "_model_module": "@jupyter-widgets/controls"
          }
        },
        "9b2a4965461a466b8d9ac7ed6f127463": {
          "model_module": "@jupyter-widgets/base",
          "model_name": "LayoutModel",
          "model_module_version": "1.2.0",
          "state": {
            "_view_name": "LayoutView",
            "grid_template_rows": null,
            "right": null,
            "justify_content": null,
            "_view_module": "@jupyter-widgets/base",
            "overflow": null,
            "_model_module_version": "1.2.0",
            "_view_count": null,
            "flex_flow": null,
            "width": null,
            "min_width": null,
            "border": null,
            "align_items": null,
            "bottom": null,
            "_model_module": "@jupyter-widgets/base",
            "top": null,
            "grid_column": null,
            "overflow_y": null,
            "overflow_x": null,
            "grid_auto_flow": null,
            "grid_area": null,
            "grid_template_columns": null,
            "flex": null,
            "_model_name": "LayoutModel",
            "justify_items": null,
            "grid_row": null,
            "max_height": null,
            "align_content": null,
            "visibility": null,
            "align_self": null,
            "height": null,
            "min_height": null,
            "padding": null,
            "grid_auto_rows": null,
            "grid_gap": null,
            "max_width": null,
            "order": null,
            "_view_module_version": "1.2.0",
            "grid_template_areas": null,
            "object_position": null,
            "object_fit": null,
            "grid_auto_columns": null,
            "margin": null,
            "display": null,
            "left": null
          }
        },
        "7ceb1a47dfe44c809a34da043960235c": {
          "model_module": "@jupyter-widgets/controls",
          "model_name": "HBoxModel",
          "model_module_version": "1.5.0",
          "state": {
            "_view_name": "HBoxView",
            "_dom_classes": [],
            "_model_name": "HBoxModel",
            "_view_module": "@jupyter-widgets/controls",
            "_model_module_version": "1.5.0",
            "_view_count": null,
            "_view_module_version": "1.5.0",
            "box_style": "",
            "layout": "IPY_MODEL_d118dcd4f62e47a7aed5b34faa9363e9",
            "_model_module": "@jupyter-widgets/controls",
            "children": [
              "IPY_MODEL_5c92459de9244b75bf68f619d84db9de",
              "IPY_MODEL_9fedde07431243f0bd736f11d6a0640d",
              "IPY_MODEL_f9c3d33e3c4f486186ab075ec8036ea8"
            ]
          }
        },
        "d118dcd4f62e47a7aed5b34faa9363e9": {
          "model_module": "@jupyter-widgets/base",
          "model_name": "LayoutModel",
          "model_module_version": "1.2.0",
          "state": {
            "_view_name": "LayoutView",
            "grid_template_rows": null,
            "right": null,
            "justify_content": null,
            "_view_module": "@jupyter-widgets/base",
            "overflow": null,
            "_model_module_version": "1.2.0",
            "_view_count": null,
            "flex_flow": null,
            "width": null,
            "min_width": null,
            "border": null,
            "align_items": null,
            "bottom": null,
            "_model_module": "@jupyter-widgets/base",
            "top": null,
            "grid_column": null,
            "overflow_y": null,
            "overflow_x": null,
            "grid_auto_flow": null,
            "grid_area": null,
            "grid_template_columns": null,
            "flex": null,
            "_model_name": "LayoutModel",
            "justify_items": null,
            "grid_row": null,
            "max_height": null,
            "align_content": null,
            "visibility": null,
            "align_self": null,
            "height": null,
            "min_height": null,
            "padding": null,
            "grid_auto_rows": null,
            "grid_gap": null,
            "max_width": null,
            "order": null,
            "_view_module_version": "1.2.0",
            "grid_template_areas": null,
            "object_position": null,
            "object_fit": null,
            "grid_auto_columns": null,
            "margin": null,
            "display": null,
            "left": null
          }
        },
        "5c92459de9244b75bf68f619d84db9de": {
          "model_module": "@jupyter-widgets/controls",
          "model_name": "HTMLModel",
          "model_module_version": "1.5.0",
          "state": {
            "_view_name": "HTMLView",
            "style": "IPY_MODEL_db5e0b8452e3445ebe44a1d1b10747e1",
            "_dom_classes": [],
            "description": "",
            "_model_name": "HTMLModel",
            "placeholder": "​",
            "_view_module": "@jupyter-widgets/controls",
            "_model_module_version": "1.5.0",
            "value": "",
            "_view_count": null,
            "_view_module_version": "1.5.0",
            "description_tooltip": null,
            "_model_module": "@jupyter-widgets/controls",
            "layout": "IPY_MODEL_8503bccba56f424986a6dc08add8027d"
          }
        },
        "9fedde07431243f0bd736f11d6a0640d": {
          "model_module": "@jupyter-widgets/controls",
          "model_name": "FloatProgressModel",
          "model_module_version": "1.5.0",
          "state": {
            "_view_name": "ProgressView",
            "style": "IPY_MODEL_2ea336f8f9b4474984819d4351820ae2",
            "_dom_classes": [],
            "description": "",
            "_model_name": "FloatProgressModel",
            "bar_style": "success",
            "max": 28881,
            "_view_module": "@jupyter-widgets/controls",
            "_model_module_version": "1.5.0",
            "value": 28881,
            "_view_count": null,
            "_view_module_version": "1.5.0",
            "orientation": "horizontal",
            "min": 0,
            "description_tooltip": null,
            "_model_module": "@jupyter-widgets/controls",
            "layout": "IPY_MODEL_35d25312854b4721ac5bc6d1ea6ed80f"
          }
        },
        "f9c3d33e3c4f486186ab075ec8036ea8": {
          "model_module": "@jupyter-widgets/controls",
          "model_name": "HTMLModel",
          "model_module_version": "1.5.0",
          "state": {
            "_view_name": "HTMLView",
            "style": "IPY_MODEL_2308ddd4f5354ed49eb9436a4f1077b3",
            "_dom_classes": [],
            "description": "",
            "_model_name": "HTMLModel",
            "placeholder": "​",
            "_view_module": "@jupyter-widgets/controls",
            "_model_module_version": "1.5.0",
            "value": " 29696/? [00:00&lt;00:00, 923779.04it/s]",
            "_view_count": null,
            "_view_module_version": "1.5.0",
            "description_tooltip": null,
            "_model_module": "@jupyter-widgets/controls",
            "layout": "IPY_MODEL_bbed7b1caa404de0812f8c83de7b6e9d"
          }
        },
        "db5e0b8452e3445ebe44a1d1b10747e1": {
          "model_module": "@jupyter-widgets/controls",
          "model_name": "DescriptionStyleModel",
          "model_module_version": "1.5.0",
          "state": {
            "_view_name": "StyleView",
            "_model_name": "DescriptionStyleModel",
            "description_width": "",
            "_view_module": "@jupyter-widgets/base",
            "_model_module_version": "1.5.0",
            "_view_count": null,
            "_view_module_version": "1.2.0",
            "_model_module": "@jupyter-widgets/controls"
          }
        },
        "8503bccba56f424986a6dc08add8027d": {
          "model_module": "@jupyter-widgets/base",
          "model_name": "LayoutModel",
          "model_module_version": "1.2.0",
          "state": {
            "_view_name": "LayoutView",
            "grid_template_rows": null,
            "right": null,
            "justify_content": null,
            "_view_module": "@jupyter-widgets/base",
            "overflow": null,
            "_model_module_version": "1.2.0",
            "_view_count": null,
            "flex_flow": null,
            "width": null,
            "min_width": null,
            "border": null,
            "align_items": null,
            "bottom": null,
            "_model_module": "@jupyter-widgets/base",
            "top": null,
            "grid_column": null,
            "overflow_y": null,
            "overflow_x": null,
            "grid_auto_flow": null,
            "grid_area": null,
            "grid_template_columns": null,
            "flex": null,
            "_model_name": "LayoutModel",
            "justify_items": null,
            "grid_row": null,
            "max_height": null,
            "align_content": null,
            "visibility": null,
            "align_self": null,
            "height": null,
            "min_height": null,
            "padding": null,
            "grid_auto_rows": null,
            "grid_gap": null,
            "max_width": null,
            "order": null,
            "_view_module_version": "1.2.0",
            "grid_template_areas": null,
            "object_position": null,
            "object_fit": null,
            "grid_auto_columns": null,
            "margin": null,
            "display": null,
            "left": null
          }
        },
        "2ea336f8f9b4474984819d4351820ae2": {
          "model_module": "@jupyter-widgets/controls",
          "model_name": "ProgressStyleModel",
          "model_module_version": "1.5.0",
          "state": {
            "_view_name": "StyleView",
            "_model_name": "ProgressStyleModel",
            "description_width": "",
            "_view_module": "@jupyter-widgets/base",
            "_model_module_version": "1.5.0",
            "_view_count": null,
            "_view_module_version": "1.2.0",
            "bar_color": null,
            "_model_module": "@jupyter-widgets/controls"
          }
        },
        "35d25312854b4721ac5bc6d1ea6ed80f": {
          "model_module": "@jupyter-widgets/base",
          "model_name": "LayoutModel",
          "model_module_version": "1.2.0",
          "state": {
            "_view_name": "LayoutView",
            "grid_template_rows": null,
            "right": null,
            "justify_content": null,
            "_view_module": "@jupyter-widgets/base",
            "overflow": null,
            "_model_module_version": "1.2.0",
            "_view_count": null,
            "flex_flow": null,
            "width": null,
            "min_width": null,
            "border": null,
            "align_items": null,
            "bottom": null,
            "_model_module": "@jupyter-widgets/base",
            "top": null,
            "grid_column": null,
            "overflow_y": null,
            "overflow_x": null,
            "grid_auto_flow": null,
            "grid_area": null,
            "grid_template_columns": null,
            "flex": null,
            "_model_name": "LayoutModel",
            "justify_items": null,
            "grid_row": null,
            "max_height": null,
            "align_content": null,
            "visibility": null,
            "align_self": null,
            "height": null,
            "min_height": null,
            "padding": null,
            "grid_auto_rows": null,
            "grid_gap": null,
            "max_width": null,
            "order": null,
            "_view_module_version": "1.2.0",
            "grid_template_areas": null,
            "object_position": null,
            "object_fit": null,
            "grid_auto_columns": null,
            "margin": null,
            "display": null,
            "left": null
          }
        },
        "2308ddd4f5354ed49eb9436a4f1077b3": {
          "model_module": "@jupyter-widgets/controls",
          "model_name": "DescriptionStyleModel",
          "model_module_version": "1.5.0",
          "state": {
            "_view_name": "StyleView",
            "_model_name": "DescriptionStyleModel",
            "description_width": "",
            "_view_module": "@jupyter-widgets/base",
            "_model_module_version": "1.5.0",
            "_view_count": null,
            "_view_module_version": "1.2.0",
            "_model_module": "@jupyter-widgets/controls"
          }
        },
        "bbed7b1caa404de0812f8c83de7b6e9d": {
          "model_module": "@jupyter-widgets/base",
          "model_name": "LayoutModel",
          "model_module_version": "1.2.0",
          "state": {
            "_view_name": "LayoutView",
            "grid_template_rows": null,
            "right": null,
            "justify_content": null,
            "_view_module": "@jupyter-widgets/base",
            "overflow": null,
            "_model_module_version": "1.2.0",
            "_view_count": null,
            "flex_flow": null,
            "width": null,
            "min_width": null,
            "border": null,
            "align_items": null,
            "bottom": null,
            "_model_module": "@jupyter-widgets/base",
            "top": null,
            "grid_column": null,
            "overflow_y": null,
            "overflow_x": null,
            "grid_auto_flow": null,
            "grid_area": null,
            "grid_template_columns": null,
            "flex": null,
            "_model_name": "LayoutModel",
            "justify_items": null,
            "grid_row": null,
            "max_height": null,
            "align_content": null,
            "visibility": null,
            "align_self": null,
            "height": null,
            "min_height": null,
            "padding": null,
            "grid_auto_rows": null,
            "grid_gap": null,
            "max_width": null,
            "order": null,
            "_view_module_version": "1.2.0",
            "grid_template_areas": null,
            "object_position": null,
            "object_fit": null,
            "grid_auto_columns": null,
            "margin": null,
            "display": null,
            "left": null
          }
        },
        "8bfb558dc0104f1990c1f9baa582d0a1": {
          "model_module": "@jupyter-widgets/controls",
          "model_name": "HBoxModel",
          "model_module_version": "1.5.0",
          "state": {
            "_view_name": "HBoxView",
            "_dom_classes": [],
            "_model_name": "HBoxModel",
            "_view_module": "@jupyter-widgets/controls",
            "_model_module_version": "1.5.0",
            "_view_count": null,
            "_view_module_version": "1.5.0",
            "box_style": "",
            "layout": "IPY_MODEL_4c4e971c7a8e47fa9ee23abaa41fcada",
            "_model_module": "@jupyter-widgets/controls",
            "children": [
              "IPY_MODEL_9e33b8950bca4923b9c9c39c502c2755",
              "IPY_MODEL_c24a3cdb3e7d4940812546236a8bc613",
              "IPY_MODEL_658241e24c0b4d18aad717bde1a5b156"
            ]
          }
        },
        "4c4e971c7a8e47fa9ee23abaa41fcada": {
          "model_module": "@jupyter-widgets/base",
          "model_name": "LayoutModel",
          "model_module_version": "1.2.0",
          "state": {
            "_view_name": "LayoutView",
            "grid_template_rows": null,
            "right": null,
            "justify_content": null,
            "_view_module": "@jupyter-widgets/base",
            "overflow": null,
            "_model_module_version": "1.2.0",
            "_view_count": null,
            "flex_flow": null,
            "width": null,
            "min_width": null,
            "border": null,
            "align_items": null,
            "bottom": null,
            "_model_module": "@jupyter-widgets/base",
            "top": null,
            "grid_column": null,
            "overflow_y": null,
            "overflow_x": null,
            "grid_auto_flow": null,
            "grid_area": null,
            "grid_template_columns": null,
            "flex": null,
            "_model_name": "LayoutModel",
            "justify_items": null,
            "grid_row": null,
            "max_height": null,
            "align_content": null,
            "visibility": null,
            "align_self": null,
            "height": null,
            "min_height": null,
            "padding": null,
            "grid_auto_rows": null,
            "grid_gap": null,
            "max_width": null,
            "order": null,
            "_view_module_version": "1.2.0",
            "grid_template_areas": null,
            "object_position": null,
            "object_fit": null,
            "grid_auto_columns": null,
            "margin": null,
            "display": null,
            "left": null
          }
        },
        "9e33b8950bca4923b9c9c39c502c2755": {
          "model_module": "@jupyter-widgets/controls",
          "model_name": "HTMLModel",
          "model_module_version": "1.5.0",
          "state": {
            "_view_name": "HTMLView",
            "style": "IPY_MODEL_7d17e28faee2413cadf6d06eb684793b",
            "_dom_classes": [],
            "description": "",
            "_model_name": "HTMLModel",
            "placeholder": "​",
            "_view_module": "@jupyter-widgets/controls",
            "_model_module_version": "1.5.0",
            "value": "",
            "_view_count": null,
            "_view_module_version": "1.5.0",
            "description_tooltip": null,
            "_model_module": "@jupyter-widgets/controls",
            "layout": "IPY_MODEL_6c4d3d9a51f545b98062af604fd443bd"
          }
        },
        "c24a3cdb3e7d4940812546236a8bc613": {
          "model_module": "@jupyter-widgets/controls",
          "model_name": "FloatProgressModel",
          "model_module_version": "1.5.0",
          "state": {
            "_view_name": "ProgressView",
            "style": "IPY_MODEL_64e09eb5269b43bc912b92d0b0efd72c",
            "_dom_classes": [],
            "description": "",
            "_model_name": "FloatProgressModel",
            "bar_style": "success",
            "max": 1648877,
            "_view_module": "@jupyter-widgets/controls",
            "_model_module_version": "1.5.0",
            "value": 1648877,
            "_view_count": null,
            "_view_module_version": "1.5.0",
            "orientation": "horizontal",
            "min": 0,
            "description_tooltip": null,
            "_model_module": "@jupyter-widgets/controls",
            "layout": "IPY_MODEL_5f1c1c381d6a40fbb4a7bfad1ccef201"
          }
        },
        "658241e24c0b4d18aad717bde1a5b156": {
          "model_module": "@jupyter-widgets/controls",
          "model_name": "HTMLModel",
          "model_module_version": "1.5.0",
          "state": {
            "_view_name": "HTMLView",
            "style": "IPY_MODEL_6766e28dc0034cbe94d183ff57e5b8d0",
            "_dom_classes": [],
            "description": "",
            "_model_name": "HTMLModel",
            "placeholder": "​",
            "_view_module": "@jupyter-widgets/controls",
            "_model_module_version": "1.5.0",
            "value": " 1649664/? [00:00&lt;00:00, 4648022.48it/s]",
            "_view_count": null,
            "_view_module_version": "1.5.0",
            "description_tooltip": null,
            "_model_module": "@jupyter-widgets/controls",
            "layout": "IPY_MODEL_bb2cccb102c046fcb831f9a668b5d7fd"
          }
        },
        "7d17e28faee2413cadf6d06eb684793b": {
          "model_module": "@jupyter-widgets/controls",
          "model_name": "DescriptionStyleModel",
          "model_module_version": "1.5.0",
          "state": {
            "_view_name": "StyleView",
            "_model_name": "DescriptionStyleModel",
            "description_width": "",
            "_view_module": "@jupyter-widgets/base",
            "_model_module_version": "1.5.0",
            "_view_count": null,
            "_view_module_version": "1.2.0",
            "_model_module": "@jupyter-widgets/controls"
          }
        },
        "6c4d3d9a51f545b98062af604fd443bd": {
          "model_module": "@jupyter-widgets/base",
          "model_name": "LayoutModel",
          "model_module_version": "1.2.0",
          "state": {
            "_view_name": "LayoutView",
            "grid_template_rows": null,
            "right": null,
            "justify_content": null,
            "_view_module": "@jupyter-widgets/base",
            "overflow": null,
            "_model_module_version": "1.2.0",
            "_view_count": null,
            "flex_flow": null,
            "width": null,
            "min_width": null,
            "border": null,
            "align_items": null,
            "bottom": null,
            "_model_module": "@jupyter-widgets/base",
            "top": null,
            "grid_column": null,
            "overflow_y": null,
            "overflow_x": null,
            "grid_auto_flow": null,
            "grid_area": null,
            "grid_template_columns": null,
            "flex": null,
            "_model_name": "LayoutModel",
            "justify_items": null,
            "grid_row": null,
            "max_height": null,
            "align_content": null,
            "visibility": null,
            "align_self": null,
            "height": null,
            "min_height": null,
            "padding": null,
            "grid_auto_rows": null,
            "grid_gap": null,
            "max_width": null,
            "order": null,
            "_view_module_version": "1.2.0",
            "grid_template_areas": null,
            "object_position": null,
            "object_fit": null,
            "grid_auto_columns": null,
            "margin": null,
            "display": null,
            "left": null
          }
        },
        "64e09eb5269b43bc912b92d0b0efd72c": {
          "model_module": "@jupyter-widgets/controls",
          "model_name": "ProgressStyleModel",
          "model_module_version": "1.5.0",
          "state": {
            "_view_name": "StyleView",
            "_model_name": "ProgressStyleModel",
            "description_width": "",
            "_view_module": "@jupyter-widgets/base",
            "_model_module_version": "1.5.0",
            "_view_count": null,
            "_view_module_version": "1.2.0",
            "bar_color": null,
            "_model_module": "@jupyter-widgets/controls"
          }
        },
        "5f1c1c381d6a40fbb4a7bfad1ccef201": {
          "model_module": "@jupyter-widgets/base",
          "model_name": "LayoutModel",
          "model_module_version": "1.2.0",
          "state": {
            "_view_name": "LayoutView",
            "grid_template_rows": null,
            "right": null,
            "justify_content": null,
            "_view_module": "@jupyter-widgets/base",
            "overflow": null,
            "_model_module_version": "1.2.0",
            "_view_count": null,
            "flex_flow": null,
            "width": null,
            "min_width": null,
            "border": null,
            "align_items": null,
            "bottom": null,
            "_model_module": "@jupyter-widgets/base",
            "top": null,
            "grid_column": null,
            "overflow_y": null,
            "overflow_x": null,
            "grid_auto_flow": null,
            "grid_area": null,
            "grid_template_columns": null,
            "flex": null,
            "_model_name": "LayoutModel",
            "justify_items": null,
            "grid_row": null,
            "max_height": null,
            "align_content": null,
            "visibility": null,
            "align_self": null,
            "height": null,
            "min_height": null,
            "padding": null,
            "grid_auto_rows": null,
            "grid_gap": null,
            "max_width": null,
            "order": null,
            "_view_module_version": "1.2.0",
            "grid_template_areas": null,
            "object_position": null,
            "object_fit": null,
            "grid_auto_columns": null,
            "margin": null,
            "display": null,
            "left": null
          }
        },
        "6766e28dc0034cbe94d183ff57e5b8d0": {
          "model_module": "@jupyter-widgets/controls",
          "model_name": "DescriptionStyleModel",
          "model_module_version": "1.5.0",
          "state": {
            "_view_name": "StyleView",
            "_model_name": "DescriptionStyleModel",
            "description_width": "",
            "_view_module": "@jupyter-widgets/base",
            "_model_module_version": "1.5.0",
            "_view_count": null,
            "_view_module_version": "1.2.0",
            "_model_module": "@jupyter-widgets/controls"
          }
        },
        "bb2cccb102c046fcb831f9a668b5d7fd": {
          "model_module": "@jupyter-widgets/base",
          "model_name": "LayoutModel",
          "model_module_version": "1.2.0",
          "state": {
            "_view_name": "LayoutView",
            "grid_template_rows": null,
            "right": null,
            "justify_content": null,
            "_view_module": "@jupyter-widgets/base",
            "overflow": null,
            "_model_module_version": "1.2.0",
            "_view_count": null,
            "flex_flow": null,
            "width": null,
            "min_width": null,
            "border": null,
            "align_items": null,
            "bottom": null,
            "_model_module": "@jupyter-widgets/base",
            "top": null,
            "grid_column": null,
            "overflow_y": null,
            "overflow_x": null,
            "grid_auto_flow": null,
            "grid_area": null,
            "grid_template_columns": null,
            "flex": null,
            "_model_name": "LayoutModel",
            "justify_items": null,
            "grid_row": null,
            "max_height": null,
            "align_content": null,
            "visibility": null,
            "align_self": null,
            "height": null,
            "min_height": null,
            "padding": null,
            "grid_auto_rows": null,
            "grid_gap": null,
            "max_width": null,
            "order": null,
            "_view_module_version": "1.2.0",
            "grid_template_areas": null,
            "object_position": null,
            "object_fit": null,
            "grid_auto_columns": null,
            "margin": null,
            "display": null,
            "left": null
          }
        },
        "df4536c70672480b83e9a04f9c7aaa5e": {
          "model_module": "@jupyter-widgets/controls",
          "model_name": "HBoxModel",
          "model_module_version": "1.5.0",
          "state": {
            "_view_name": "HBoxView",
            "_dom_classes": [],
            "_model_name": "HBoxModel",
            "_view_module": "@jupyter-widgets/controls",
            "_model_module_version": "1.5.0",
            "_view_count": null,
            "_view_module_version": "1.5.0",
            "box_style": "",
            "layout": "IPY_MODEL_636b10a83434495ba7a7179a2cfbb0de",
            "_model_module": "@jupyter-widgets/controls",
            "children": [
              "IPY_MODEL_a13c80a67e6b4c1db6c5ce61a726592b",
              "IPY_MODEL_8bb38ad8a307417eab0691e4e4eab15e",
              "IPY_MODEL_5678539b9ef2412da0544e93d1094467"
            ]
          }
        },
        "636b10a83434495ba7a7179a2cfbb0de": {
          "model_module": "@jupyter-widgets/base",
          "model_name": "LayoutModel",
          "model_module_version": "1.2.0",
          "state": {
            "_view_name": "LayoutView",
            "grid_template_rows": null,
            "right": null,
            "justify_content": null,
            "_view_module": "@jupyter-widgets/base",
            "overflow": null,
            "_model_module_version": "1.2.0",
            "_view_count": null,
            "flex_flow": null,
            "width": null,
            "min_width": null,
            "border": null,
            "align_items": null,
            "bottom": null,
            "_model_module": "@jupyter-widgets/base",
            "top": null,
            "grid_column": null,
            "overflow_y": null,
            "overflow_x": null,
            "grid_auto_flow": null,
            "grid_area": null,
            "grid_template_columns": null,
            "flex": null,
            "_model_name": "LayoutModel",
            "justify_items": null,
            "grid_row": null,
            "max_height": null,
            "align_content": null,
            "visibility": null,
            "align_self": null,
            "height": null,
            "min_height": null,
            "padding": null,
            "grid_auto_rows": null,
            "grid_gap": null,
            "max_width": null,
            "order": null,
            "_view_module_version": "1.2.0",
            "grid_template_areas": null,
            "object_position": null,
            "object_fit": null,
            "grid_auto_columns": null,
            "margin": null,
            "display": null,
            "left": null
          }
        },
        "a13c80a67e6b4c1db6c5ce61a726592b": {
          "model_module": "@jupyter-widgets/controls",
          "model_name": "HTMLModel",
          "model_module_version": "1.5.0",
          "state": {
            "_view_name": "HTMLView",
            "style": "IPY_MODEL_dff1eed9a27e4e47911a39554317aaca",
            "_dom_classes": [],
            "description": "",
            "_model_name": "HTMLModel",
            "placeholder": "​",
            "_view_module": "@jupyter-widgets/controls",
            "_model_module_version": "1.5.0",
            "value": "",
            "_view_count": null,
            "_view_module_version": "1.5.0",
            "description_tooltip": null,
            "_model_module": "@jupyter-widgets/controls",
            "layout": "IPY_MODEL_1a00e609bbaf4c35be14a80a097c7eb6"
          }
        },
        "8bb38ad8a307417eab0691e4e4eab15e": {
          "model_module": "@jupyter-widgets/controls",
          "model_name": "FloatProgressModel",
          "model_module_version": "1.5.0",
          "state": {
            "_view_name": "ProgressView",
            "style": "IPY_MODEL_6db8651b5c924218adce4cad733f2fd0",
            "_dom_classes": [],
            "description": "",
            "_model_name": "FloatProgressModel",
            "bar_style": "success",
            "max": 4542,
            "_view_module": "@jupyter-widgets/controls",
            "_model_module_version": "1.5.0",
            "value": 4542,
            "_view_count": null,
            "_view_module_version": "1.5.0",
            "orientation": "horizontal",
            "min": 0,
            "description_tooltip": null,
            "_model_module": "@jupyter-widgets/controls",
            "layout": "IPY_MODEL_043b0bce3edf447f852fb010aaf2e2a2"
          }
        },
        "5678539b9ef2412da0544e93d1094467": {
          "model_module": "@jupyter-widgets/controls",
          "model_name": "HTMLModel",
          "model_module_version": "1.5.0",
          "state": {
            "_view_name": "HTMLView",
            "style": "IPY_MODEL_5868b5a137224c12bfe5821e8fa569ee",
            "_dom_classes": [],
            "description": "",
            "_model_name": "HTMLModel",
            "placeholder": "​",
            "_view_module": "@jupyter-widgets/controls",
            "_model_module_version": "1.5.0",
            "value": " 5120/? [00:00&lt;00:00, 144095.47it/s]",
            "_view_count": null,
            "_view_module_version": "1.5.0",
            "description_tooltip": null,
            "_model_module": "@jupyter-widgets/controls",
            "layout": "IPY_MODEL_f7879f987ffa498b8c2abd65889f8b73"
          }
        },
        "dff1eed9a27e4e47911a39554317aaca": {
          "model_module": "@jupyter-widgets/controls",
          "model_name": "DescriptionStyleModel",
          "model_module_version": "1.5.0",
          "state": {
            "_view_name": "StyleView",
            "_model_name": "DescriptionStyleModel",
            "description_width": "",
            "_view_module": "@jupyter-widgets/base",
            "_model_module_version": "1.5.0",
            "_view_count": null,
            "_view_module_version": "1.2.0",
            "_model_module": "@jupyter-widgets/controls"
          }
        },
        "1a00e609bbaf4c35be14a80a097c7eb6": {
          "model_module": "@jupyter-widgets/base",
          "model_name": "LayoutModel",
          "model_module_version": "1.2.0",
          "state": {
            "_view_name": "LayoutView",
            "grid_template_rows": null,
            "right": null,
            "justify_content": null,
            "_view_module": "@jupyter-widgets/base",
            "overflow": null,
            "_model_module_version": "1.2.0",
            "_view_count": null,
            "flex_flow": null,
            "width": null,
            "min_width": null,
            "border": null,
            "align_items": null,
            "bottom": null,
            "_model_module": "@jupyter-widgets/base",
            "top": null,
            "grid_column": null,
            "overflow_y": null,
            "overflow_x": null,
            "grid_auto_flow": null,
            "grid_area": null,
            "grid_template_columns": null,
            "flex": null,
            "_model_name": "LayoutModel",
            "justify_items": null,
            "grid_row": null,
            "max_height": null,
            "align_content": null,
            "visibility": null,
            "align_self": null,
            "height": null,
            "min_height": null,
            "padding": null,
            "grid_auto_rows": null,
            "grid_gap": null,
            "max_width": null,
            "order": null,
            "_view_module_version": "1.2.0",
            "grid_template_areas": null,
            "object_position": null,
            "object_fit": null,
            "grid_auto_columns": null,
            "margin": null,
            "display": null,
            "left": null
          }
        },
        "6db8651b5c924218adce4cad733f2fd0": {
          "model_module": "@jupyter-widgets/controls",
          "model_name": "ProgressStyleModel",
          "model_module_version": "1.5.0",
          "state": {
            "_view_name": "StyleView",
            "_model_name": "ProgressStyleModel",
            "description_width": "",
            "_view_module": "@jupyter-widgets/base",
            "_model_module_version": "1.5.0",
            "_view_count": null,
            "_view_module_version": "1.2.0",
            "bar_color": null,
            "_model_module": "@jupyter-widgets/controls"
          }
        },
        "043b0bce3edf447f852fb010aaf2e2a2": {
          "model_module": "@jupyter-widgets/base",
          "model_name": "LayoutModel",
          "model_module_version": "1.2.0",
          "state": {
            "_view_name": "LayoutView",
            "grid_template_rows": null,
            "right": null,
            "justify_content": null,
            "_view_module": "@jupyter-widgets/base",
            "overflow": null,
            "_model_module_version": "1.2.0",
            "_view_count": null,
            "flex_flow": null,
            "width": null,
            "min_width": null,
            "border": null,
            "align_items": null,
            "bottom": null,
            "_model_module": "@jupyter-widgets/base",
            "top": null,
            "grid_column": null,
            "overflow_y": null,
            "overflow_x": null,
            "grid_auto_flow": null,
            "grid_area": null,
            "grid_template_columns": null,
            "flex": null,
            "_model_name": "LayoutModel",
            "justify_items": null,
            "grid_row": null,
            "max_height": null,
            "align_content": null,
            "visibility": null,
            "align_self": null,
            "height": null,
            "min_height": null,
            "padding": null,
            "grid_auto_rows": null,
            "grid_gap": null,
            "max_width": null,
            "order": null,
            "_view_module_version": "1.2.0",
            "grid_template_areas": null,
            "object_position": null,
            "object_fit": null,
            "grid_auto_columns": null,
            "margin": null,
            "display": null,
            "left": null
          }
        },
        "5868b5a137224c12bfe5821e8fa569ee": {
          "model_module": "@jupyter-widgets/controls",
          "model_name": "DescriptionStyleModel",
          "model_module_version": "1.5.0",
          "state": {
            "_view_name": "StyleView",
            "_model_name": "DescriptionStyleModel",
            "description_width": "",
            "_view_module": "@jupyter-widgets/base",
            "_model_module_version": "1.5.0",
            "_view_count": null,
            "_view_module_version": "1.2.0",
            "_model_module": "@jupyter-widgets/controls"
          }
        },
        "f7879f987ffa498b8c2abd65889f8b73": {
          "model_module": "@jupyter-widgets/base",
          "model_name": "LayoutModel",
          "model_module_version": "1.2.0",
          "state": {
            "_view_name": "LayoutView",
            "grid_template_rows": null,
            "right": null,
            "justify_content": null,
            "_view_module": "@jupyter-widgets/base",
            "overflow": null,
            "_model_module_version": "1.2.0",
            "_view_count": null,
            "flex_flow": null,
            "width": null,
            "min_width": null,
            "border": null,
            "align_items": null,
            "bottom": null,
            "_model_module": "@jupyter-widgets/base",
            "top": null,
            "grid_column": null,
            "overflow_y": null,
            "overflow_x": null,
            "grid_auto_flow": null,
            "grid_area": null,
            "grid_template_columns": null,
            "flex": null,
            "_model_name": "LayoutModel",
            "justify_items": null,
            "grid_row": null,
            "max_height": null,
            "align_content": null,
            "visibility": null,
            "align_self": null,
            "height": null,
            "min_height": null,
            "padding": null,
            "grid_auto_rows": null,
            "grid_gap": null,
            "max_width": null,
            "order": null,
            "_view_module_version": "1.2.0",
            "grid_template_areas": null,
            "object_position": null,
            "object_fit": null,
            "grid_auto_columns": null,
            "margin": null,
            "display": null,
            "left": null
          }
        }
      }
    }
  },
  "cells": [
    {
      "cell_type": "markdown",
      "metadata": {
        "id": "view-in-github",
        "colab_type": "text"
      },
      "source": [
        "<a href=\"https://colab.research.google.com/github/taukirazam16/PyTorch-Practice/blob/main/Digit_Recogniser.ipynb\" target=\"_parent\"><img src=\"https://colab.research.google.com/assets/colab-badge.svg\" alt=\"Open In Colab\"/></a>"
      ]
    },
    {
      "cell_type": "markdown",
      "metadata": {
        "id": "9M-SdesuEAll"
      },
      "source": [
        "#Summary\n",
        "MNIST<br>\n",
        "Data Loader, Transformation <br>\n",
        "Multilayer NN, Activation Function <br>\n",
        "Loss and Optimizer <br>\n",
        "Training Loop (Batch Training)<br>\n",
        "Model Evaluation <br>\n",
        "\n"
      ]
    },
    {
      "cell_type": "code",
      "metadata": {
        "id": "ZNo7O13LDtlQ"
      },
      "source": [
        "import torch\n",
        "import torch.nn as nn\n",
        "import torchvision\n",
        "import torchvision.transforms as transforms\n",
        "import matplotlib.pyplot as plt\n"
      ],
      "execution_count": 1,
      "outputs": []
    },
    {
      "cell_type": "code",
      "metadata": {
        "id": "WElLXpu1E5n-"
      },
      "source": [
        "device = torch.device('cuda' if torch.cuda.is_available() else 'cpu')"
      ],
      "execution_count": 2,
      "outputs": []
    },
    {
      "cell_type": "code",
      "metadata": {
        "id": "maL_ZQrMFFUU"
      },
      "source": [
        "#hyper parameter\n",
        "input_size = 784 #because input image = 28*28\n",
        "hidden_size = 100\n",
        "num_classes = 10\n",
        "num_epochs = 50\n",
        "batch_size = 100\n",
        "learning_rate = 0.001"
      ],
      "execution_count": 105,
      "outputs": []
    },
    {
      "cell_type": "code",
      "metadata": {
        "colab": {
          "base_uri": "https://localhost:8080/",
          "height": 467,
          "referenced_widgets": [
            "b60e4ced6f854613bb4c1d6beaf279a3",
            "e10ee90408ab43e59bbb69b0aaa6ebba",
            "28587d721b524ab6af655c05d2727379",
            "f0a17713e3ef48889b9a67bb0777097e",
            "5b3693f8a7b048388914a32f58dcf698",
            "beeebdbdcf1b42f9b5cf6707b5bdedb5",
            "221a26d8427c4187b4cd72464e03a5cb",
            "ebf2e8224fc74354a3075e9d7f47c3f4",
            "be5729ca2db544869db4a58bc5821274",
            "989fb6e3c4174ce2a6281ead7fe9a805",
            "9b2a4965461a466b8d9ac7ed6f127463",
            "7ceb1a47dfe44c809a34da043960235c",
            "d118dcd4f62e47a7aed5b34faa9363e9",
            "5c92459de9244b75bf68f619d84db9de",
            "9fedde07431243f0bd736f11d6a0640d",
            "f9c3d33e3c4f486186ab075ec8036ea8",
            "db5e0b8452e3445ebe44a1d1b10747e1",
            "8503bccba56f424986a6dc08add8027d",
            "2ea336f8f9b4474984819d4351820ae2",
            "35d25312854b4721ac5bc6d1ea6ed80f",
            "2308ddd4f5354ed49eb9436a4f1077b3",
            "bbed7b1caa404de0812f8c83de7b6e9d",
            "8bfb558dc0104f1990c1f9baa582d0a1",
            "4c4e971c7a8e47fa9ee23abaa41fcada",
            "9e33b8950bca4923b9c9c39c502c2755",
            "c24a3cdb3e7d4940812546236a8bc613",
            "658241e24c0b4d18aad717bde1a5b156",
            "7d17e28faee2413cadf6d06eb684793b",
            "6c4d3d9a51f545b98062af604fd443bd",
            "64e09eb5269b43bc912b92d0b0efd72c",
            "5f1c1c381d6a40fbb4a7bfad1ccef201",
            "6766e28dc0034cbe94d183ff57e5b8d0",
            "bb2cccb102c046fcb831f9a668b5d7fd",
            "df4536c70672480b83e9a04f9c7aaa5e",
            "636b10a83434495ba7a7179a2cfbb0de",
            "a13c80a67e6b4c1db6c5ce61a726592b",
            "8bb38ad8a307417eab0691e4e4eab15e",
            "5678539b9ef2412da0544e93d1094467",
            "dff1eed9a27e4e47911a39554317aaca",
            "1a00e609bbaf4c35be14a80a097c7eb6",
            "6db8651b5c924218adce4cad733f2fd0",
            "043b0bce3edf447f852fb010aaf2e2a2",
            "5868b5a137224c12bfe5821e8fa569ee",
            "f7879f987ffa498b8c2abd65889f8b73"
          ]
        },
        "id": "m-eGvdhcFHQL",
        "outputId": "703e31ee-536d-4bce-b4fe-5fd5f4072d23"
      },
      "source": [
        "train_dataset = torchvision.datasets.MNIST(root='./data',train=True,transform=transforms.ToTensor(),download=True)\n",
        "test_dataset = torchvision.datasets.MNIST(root='./data',train=False,transform=transforms.ToTensor(),download=True)\n"
      ],
      "execution_count": 4,
      "outputs": [
        {
          "output_type": "stream",
          "name": "stdout",
          "text": [
            "Downloading http://yann.lecun.com/exdb/mnist/train-images-idx3-ubyte.gz\n",
            "Downloading http://yann.lecun.com/exdb/mnist/train-images-idx3-ubyte.gz to ./data/MNIST/raw/train-images-idx3-ubyte.gz\n"
          ]
        },
        {
          "output_type": "display_data",
          "data": {
            "application/vnd.jupyter.widget-view+json": {
              "model_id": "b60e4ced6f854613bb4c1d6beaf279a3",
              "version_minor": 0,
              "version_major": 2
            },
            "text/plain": [
              "  0%|          | 0/9912422 [00:00<?, ?it/s]"
            ]
          },
          "metadata": {}
        },
        {
          "output_type": "stream",
          "name": "stdout",
          "text": [
            "Extracting ./data/MNIST/raw/train-images-idx3-ubyte.gz to ./data/MNIST/raw\n",
            "\n",
            "Downloading http://yann.lecun.com/exdb/mnist/train-labels-idx1-ubyte.gz\n",
            "Downloading http://yann.lecun.com/exdb/mnist/train-labels-idx1-ubyte.gz to ./data/MNIST/raw/train-labels-idx1-ubyte.gz\n"
          ]
        },
        {
          "output_type": "display_data",
          "data": {
            "application/vnd.jupyter.widget-view+json": {
              "model_id": "7ceb1a47dfe44c809a34da043960235c",
              "version_minor": 0,
              "version_major": 2
            },
            "text/plain": [
              "  0%|          | 0/28881 [00:00<?, ?it/s]"
            ]
          },
          "metadata": {}
        },
        {
          "output_type": "stream",
          "name": "stdout",
          "text": [
            "Extracting ./data/MNIST/raw/train-labels-idx1-ubyte.gz to ./data/MNIST/raw\n",
            "\n",
            "Downloading http://yann.lecun.com/exdb/mnist/t10k-images-idx3-ubyte.gz\n",
            "Downloading http://yann.lecun.com/exdb/mnist/t10k-images-idx3-ubyte.gz to ./data/MNIST/raw/t10k-images-idx3-ubyte.gz\n"
          ]
        },
        {
          "output_type": "display_data",
          "data": {
            "application/vnd.jupyter.widget-view+json": {
              "model_id": "8bfb558dc0104f1990c1f9baa582d0a1",
              "version_minor": 0,
              "version_major": 2
            },
            "text/plain": [
              "  0%|          | 0/1648877 [00:00<?, ?it/s]"
            ]
          },
          "metadata": {}
        },
        {
          "output_type": "stream",
          "name": "stdout",
          "text": [
            "Extracting ./data/MNIST/raw/t10k-images-idx3-ubyte.gz to ./data/MNIST/raw\n",
            "\n",
            "Downloading http://yann.lecun.com/exdb/mnist/t10k-labels-idx1-ubyte.gz\n",
            "Downloading http://yann.lecun.com/exdb/mnist/t10k-labels-idx1-ubyte.gz to ./data/MNIST/raw/t10k-labels-idx1-ubyte.gz\n"
          ]
        },
        {
          "output_type": "display_data",
          "data": {
            "application/vnd.jupyter.widget-view+json": {
              "model_id": "df4536c70672480b83e9a04f9c7aaa5e",
              "version_minor": 0,
              "version_major": 2
            },
            "text/plain": [
              "  0%|          | 0/4542 [00:00<?, ?it/s]"
            ]
          },
          "metadata": {}
        },
        {
          "output_type": "stream",
          "name": "stdout",
          "text": [
            "Extracting ./data/MNIST/raw/t10k-labels-idx1-ubyte.gz to ./data/MNIST/raw\n",
            "\n"
          ]
        },
        {
          "output_type": "stream",
          "name": "stderr",
          "text": [
            "/usr/local/lib/python3.7/dist-packages/torchvision/datasets/mnist.py:498: UserWarning: The given NumPy array is not writeable, and PyTorch does not support non-writeable tensors. This means you can write to the underlying (supposedly non-writeable) NumPy array using the tensor. You may want to copy the array to protect its data or make it writeable before converting it to a tensor. This type of warning will be suppressed for the rest of this program. (Triggered internally at  /pytorch/torch/csrc/utils/tensor_numpy.cpp:180.)\n",
            "  return torch.from_numpy(parsed.astype(m[2], copy=False)).view(*s)\n"
          ]
        }
      ]
    },
    {
      "cell_type": "code",
      "metadata": {
        "colab": {
          "base_uri": "https://localhost:8080/"
        },
        "id": "Dg8uziKDnnVu",
        "outputId": "bd7dfc61-aa86-4c5f-f00e-f9f3d88402b5"
      },
      "source": [
        "train_dataset"
      ],
      "execution_count": 7,
      "outputs": [
        {
          "output_type": "execute_result",
          "data": {
            "text/plain": [
              "Dataset MNIST\n",
              "    Number of datapoints: 60000\n",
              "    Root location: ./data\n",
              "    Split: Train\n",
              "    StandardTransform\n",
              "Transform: ToTensor()"
            ]
          },
          "metadata": {},
          "execution_count": 7
        }
      ]
    },
    {
      "cell_type": "code",
      "metadata": {
        "colab": {
          "base_uri": "https://localhost:8080/"
        },
        "id": "lOZsAkxCu3-q",
        "outputId": "2063773f-b356-4f69-a9b3-a6693393ebd8"
      },
      "source": [
        "test_dataset"
      ],
      "execution_count": 16,
      "outputs": [
        {
          "output_type": "execute_result",
          "data": {
            "text/plain": [
              "Dataset MNIST\n",
              "    Number of datapoints: 10000\n",
              "    Root location: ./data\n",
              "    Split: Test\n",
              "    StandardTransform\n",
              "Transform: ToTensor()"
            ]
          },
          "metadata": {},
          "execution_count": 16
        }
      ]
    },
    {
      "cell_type": "code",
      "metadata": {
        "colab": {
          "base_uri": "https://localhost:8080/"
        },
        "id": "uvFloCexoFcD",
        "outputId": "8d5dde36-a20a-4e6b-a56b-eb78a21ce575"
      },
      "source": [
        "train_loader = torch.utils.data.DataLoader(dataset=train_dataset, batch_size=batch_size,shuffle=True)\n",
        "train_loader"
      ],
      "execution_count": 10,
      "outputs": [
        {
          "output_type": "execute_result",
          "data": {
            "text/plain": [
              "<torch.utils.data.dataloader.DataLoader at 0x7fe27c5eb6d0>"
            ]
          },
          "metadata": {},
          "execution_count": 10
        }
      ]
    },
    {
      "cell_type": "code",
      "metadata": {
        "colab": {
          "base_uri": "https://localhost:8080/"
        },
        "id": "EJzzPyE-ucVN",
        "outputId": "0f83f70d-0d26-4a7e-f3c5-4f35055241cf"
      },
      "source": [
        "print(len(train_loader))"
      ],
      "execution_count": 13,
      "outputs": [
        {
          "output_type": "stream",
          "name": "stdout",
          "text": [
            "600\n"
          ]
        }
      ]
    },
    {
      "cell_type": "code",
      "metadata": {
        "colab": {
          "base_uri": "https://localhost:8080/"
        },
        "id": "DxtlE1Z-urSD",
        "outputId": "6676da99-2425-4b51-e3f6-2b65372b20af"
      },
      "source": [
        "test_loader = torch.utils.data.DataLoader(dataset=test_dataset, batch_size=batch_size)\n",
        "print(len(test_loader))"
      ],
      "execution_count": 14,
      "outputs": [
        {
          "output_type": "stream",
          "name": "stdout",
          "text": [
            "100\n"
          ]
        }
      ]
    },
    {
      "cell_type": "code",
      "metadata": {
        "colab": {
          "base_uri": "https://localhost:8080/"
        },
        "id": "d7NBNYs2vBd8",
        "outputId": "2309590d-4422-43dd-8447-5f68602a17a0"
      },
      "source": [
        "examples = iter(train_loader)\n",
        "samples, labels = examples.next()\n",
        "print(samples.shape,labels.shape)"
      ],
      "execution_count": 17,
      "outputs": [
        {
          "output_type": "stream",
          "name": "stdout",
          "text": [
            "torch.Size([100, 1, 28, 28]) torch.Size([100])\n"
          ]
        }
      ]
    },
    {
      "cell_type": "code",
      "metadata": {
        "colab": {
          "base_uri": "https://localhost:8080/",
          "height": 284
        },
        "id": "cua3NsHWvtku",
        "outputId": "a15f3bd4-9012-4389-bc19-f34ca9aea7f5"
      },
      "source": [
        "for i in range(6):\n",
        "  plt.subplot(2,3,i+1)\n",
        "  plt.imshow(samples[i][0],cmap='gray')\n",
        "  print(labels[i],end=' ')\n",
        "\n",
        "plt.show()\n"
      ],
      "execution_count": 28,
      "outputs": [
        {
          "output_type": "stream",
          "name": "stdout",
          "text": [
            "tensor(7) tensor(1) tensor(8) tensor(3) tensor(1) tensor(3) "
          ]
        },
        {
          "output_type": "display_data",
          "data": {
            "image/png": "[encoded data removed]",
            "text/plain": [
              "<Figure size 432x288 with 6 Axes>"
            ]
          },
          "metadata": {
            "needs_background": "light"
          }
        }
      ]
    },
    {
      "cell_type": "markdown",
      "metadata": {
        "id": "JyCxrEizw3D8"
      },
      "source": [
        "# Neural Net"
      ]
    },
    {
      "cell_type": "code",
      "metadata": {
        "id": "n0BQ2pffwwq9"
      },
      "source": [
        "class NeuralNet(nn.Module):\n",
        "  def __init__(self, input_size,hidden_size,num_classes):\n",
        "    super(NeuralNet, self).__init__()\n",
        "    self.l1 = nn.Linear(input_size,hidden_size)\n",
        "    self.relu = nn.ReLU()\n",
        "    self.l2 = nn.Linear(hidden_size,num_classes)\n",
        "\n",
        "  \n",
        "  def forward(self,x):\n",
        "    out = self.l1(x)\n",
        "    out = self.relu(out)\n",
        "    out = self.l2(out)\n",
        "    return out\n",
        "\n"
      ],
      "execution_count": 34,
      "outputs": []
    },
    {
      "cell_type": "code",
      "metadata": {
        "id": "ryU6m2-zx62E"
      },
      "source": [
        "model = NeuralNet(input_size,hidden_size,num_classes)"
      ],
      "execution_count": 35,
      "outputs": []
    },
    {
      "cell_type": "code",
      "metadata": {
        "id": "jIFJZIjHyMDT"
      },
      "source": [
        "#Loss and Optimizer\n",
        "\n",
        "criterion = nn.CrossEntropyLoss()\n",
        "Optimizer = torch.optim.Adam(model.parameters(),lr=learning_rate)"
      ],
      "execution_count": 36,
      "outputs": []
    },
    {
      "cell_type": "code",
      "metadata": {
        "colab": {
          "base_uri": "https://localhost:8080/"
        },
        "id": "L7ClWyRByoUq",
        "outputId": "603b1b7d-a024-49c1-f53a-c1d82ebdb23c"
      },
      "source": [
        "n_total_steps = len(train_loader)\n",
        "n_total_steps"
      ],
      "execution_count": 39,
      "outputs": [
        {
          "output_type": "execute_result",
          "data": {
            "text/plain": [
              "600"
            ]
          },
          "metadata": {},
          "execution_count": 39
        }
      ]
    },
    {
      "cell_type": "code",
      "metadata": {
        "colab": {
          "base_uri": "https://localhost:8080/"
        },
        "id": "wMcsupXiydhr",
        "outputId": "5536d948-ca88-462a-c749-e830b40b5635"
      },
      "source": [
        "#training loop\n",
        "for epoch in range(num_epochs):\n",
        "  for i, (images, labels) in enumerate(train_loader):\n",
        "    images = images.reshape(-1,28*28).to(device)\n",
        "    labels = labels.to(device)\n",
        "\n",
        "    #forward\n",
        "    outputs = model(images)\n",
        "    loss = criterion(outputs, labels)\n",
        "\n",
        "    #backward\n",
        "    Optimizer.zero_grad()\n",
        "    loss.backward()\n",
        "    Optimizer.step()\n",
        "\n",
        "    if (i+1) % 100 ==0:\n",
        "      print (f'Epoch [{epoch+1}/{num_epochs}], Step [{i+1}/{n_total_steps}], Loss: {loss.item():.4f}')\n"
      ],
      "execution_count": 106,
      "outputs": [
        {
          "output_type": "stream",
          "name": "stdout",
          "text": [
            "Epoch [1/50], Step [100/600], Loss: 0.0899\n",
            "Epoch [1/50], Step [200/600], Loss: 0.0904\n",
            "Epoch [1/50], Step [300/600], Loss: 0.1047\n",
            "Epoch [1/50], Step [400/600], Loss: 0.1056\n",
            "Epoch [1/50], Step [500/600], Loss: 0.1399\n",
            "Epoch [1/50], Step [600/600], Loss: 0.0439\n",
            "Epoch [2/50], Step [100/600], Loss: 0.1490\n",
            "Epoch [2/50], Step [200/600], Loss: 0.1113\n",
            "Epoch [2/50], Step [300/600], Loss: 0.1620\n",
            "Epoch [2/50], Step [400/600], Loss: 0.1108\n",
            "Epoch [2/50], Step [500/600], Loss: 0.0630\n",
            "Epoch [2/50], Step [600/600], Loss: 0.0790\n",
            "Epoch [3/50], Step [100/600], Loss: 0.1225\n",
            "Epoch [3/50], Step [200/600], Loss: 0.0972\n",
            "Epoch [3/50], Step [300/600], Loss: 0.0354\n",
            "Epoch [3/50], Step [400/600], Loss: 0.0614\n",
            "Epoch [3/50], Step [500/600], Loss: 0.0439\n",
            "Epoch [3/50], Step [600/600], Loss: 0.1331\n",
            "Epoch [4/50], Step [100/600], Loss: 0.0837\n",
            "Epoch [4/50], Step [200/600], Loss: 0.0961\n",
            "Epoch [4/50], Step [300/600], Loss: 0.0910\n",
            "Epoch [4/50], Step [400/600], Loss: 0.0651\n",
            "Epoch [4/50], Step [500/600], Loss: 0.0817\n",
            "Epoch [4/50], Step [600/600], Loss: 0.0662\n",
            "Epoch [5/50], Step [100/600], Loss: 0.0586\n",
            "Epoch [5/50], Step [200/600], Loss: 0.0174\n",
            "Epoch [5/50], Step [300/600], Loss: 0.0739\n",
            "Epoch [5/50], Step [400/600], Loss: 0.0399\n",
            "Epoch [5/50], Step [500/600], Loss: 0.0968\n",
            "Epoch [5/50], Step [600/600], Loss: 0.0146\n",
            "Epoch [6/50], Step [100/600], Loss: 0.0888\n",
            "Epoch [6/50], Step [200/600], Loss: 0.0445\n",
            "Epoch [6/50], Step [300/600], Loss: 0.0229\n",
            "Epoch [6/50], Step [400/600], Loss: 0.0182\n",
            "Epoch [6/50], Step [500/600], Loss: 0.0351\n",
            "Epoch [6/50], Step [600/600], Loss: 0.0806\n",
            "Epoch [7/50], Step [100/600], Loss: 0.0923\n",
            "Epoch [7/50], Step [200/600], Loss: 0.0301\n",
            "Epoch [7/50], Step [300/600], Loss: 0.0521\n",
            "Epoch [7/50], Step [400/600], Loss: 0.0309\n",
            "Epoch [7/50], Step [500/600], Loss: 0.0338\n",
            "Epoch [7/50], Step [600/600], Loss: 0.0729\n",
            "Epoch [8/50], Step [100/600], Loss: 0.0223\n",
            "Epoch [8/50], Step [200/600], Loss: 0.0352\n",
            "Epoch [8/50], Step [300/600], Loss: 0.0120\n",
            "Epoch [8/50], Step [400/600], Loss: 0.0780\n",
            "Epoch [8/50], Step [500/600], Loss: 0.0112\n",
            "Epoch [8/50], Step [600/600], Loss: 0.0677\n",
            "Epoch [9/50], Step [100/600], Loss: 0.0398\n",
            "Epoch [9/50], Step [200/600], Loss: 0.0139\n",
            "Epoch [9/50], Step [300/600], Loss: 0.0189\n",
            "Epoch [9/50], Step [400/600], Loss: 0.0119\n",
            "Epoch [9/50], Step [500/600], Loss: 0.0189\n",
            "Epoch [9/50], Step [600/600], Loss: 0.0532\n",
            "Epoch [10/50], Step [100/600], Loss: 0.0230\n",
            "Epoch [10/50], Step [200/600], Loss: 0.0060\n",
            "Epoch [10/50], Step [300/600], Loss: 0.0199\n",
            "Epoch [10/50], Step [400/600], Loss: 0.0402\n",
            "Epoch [10/50], Step [500/600], Loss: 0.0562\n",
            "Epoch [10/50], Step [600/600], Loss: 0.0526\n",
            "Epoch [11/50], Step [100/600], Loss: 0.0372\n",
            "Epoch [11/50], Step [200/600], Loss: 0.0206\n",
            "Epoch [11/50], Step [300/600], Loss: 0.0232\n",
            "Epoch [11/50], Step [400/600], Loss: 0.0174\n",
            "Epoch [11/50], Step [500/600], Loss: 0.0099\n",
            "Epoch [11/50], Step [600/600], Loss: 0.0081\n",
            "Epoch [12/50], Step [100/600], Loss: 0.0106\n",
            "Epoch [12/50], Step [200/600], Loss: 0.0063\n",
            "Epoch [12/50], Step [300/600], Loss: 0.0134\n",
            "Epoch [12/50], Step [400/600], Loss: 0.0094\n",
            "Epoch [12/50], Step [500/600], Loss: 0.0376\n",
            "Epoch [12/50], Step [600/600], Loss: 0.0260\n",
            "Epoch [13/50], Step [100/600], Loss: 0.0052\n",
            "Epoch [13/50], Step [200/600], Loss: 0.0670\n",
            "Epoch [13/50], Step [300/600], Loss: 0.0115\n",
            "Epoch [13/50], Step [400/600], Loss: 0.0106\n",
            "Epoch [13/50], Step [500/600], Loss: 0.0161\n",
            "Epoch [13/50], Step [600/600], Loss: 0.0747\n",
            "Epoch [14/50], Step [100/600], Loss: 0.0065\n",
            "Epoch [14/50], Step [200/600], Loss: 0.0140\n",
            "Epoch [14/50], Step [300/600], Loss: 0.0143\n",
            "Epoch [14/50], Step [400/600], Loss: 0.0021\n",
            "Epoch [14/50], Step [500/600], Loss: 0.0035\n",
            "Epoch [14/50], Step [600/600], Loss: 0.0131\n",
            "Epoch [15/50], Step [100/600], Loss: 0.0114\n",
            "Epoch [15/50], Step [200/600], Loss: 0.0120\n",
            "Epoch [15/50], Step [300/600], Loss: 0.0232\n",
            "Epoch [15/50], Step [400/600], Loss: 0.0051\n",
            "Epoch [15/50], Step [500/600], Loss: 0.0052\n",
            "Epoch [15/50], Step [600/600], Loss: 0.0035\n",
            "Epoch [16/50], Step [100/600], Loss: 0.0487\n",
            "Epoch [16/50], Step [200/600], Loss: 0.0248\n",
            "Epoch [16/50], Step [300/600], Loss: 0.0525\n",
            "Epoch [16/50], Step [400/600], Loss: 0.0034\n",
            "Epoch [16/50], Step [500/600], Loss: 0.0063\n",
            "Epoch [16/50], Step [600/600], Loss: 0.0071\n",
            "Epoch [17/50], Step [100/600], Loss: 0.0080\n",
            "Epoch [17/50], Step [200/600], Loss: 0.0074\n",
            "Epoch [17/50], Step [300/600], Loss: 0.0040\n",
            "Epoch [17/50], Step [400/600], Loss: 0.0049\n",
            "Epoch [17/50], Step [500/600], Loss: 0.0040\n",
            "Epoch [17/50], Step [600/600], Loss: 0.0011\n",
            "Epoch [18/50], Step [100/600], Loss: 0.0074\n",
            "Epoch [18/50], Step [200/600], Loss: 0.0047\n",
            "Epoch [18/50], Step [300/600], Loss: 0.0217\n",
            "Epoch [18/50], Step [400/600], Loss: 0.0032\n",
            "Epoch [18/50], Step [500/600], Loss: 0.0173\n",
            "Epoch [18/50], Step [600/600], Loss: 0.0145\n",
            "Epoch [19/50], Step [100/600], Loss: 0.0022\n",
            "Epoch [19/50], Step [200/600], Loss: 0.0038\n",
            "Epoch [19/50], Step [300/600], Loss: 0.0055\n",
            "Epoch [19/50], Step [400/600], Loss: 0.0042\n",
            "Epoch [19/50], Step [500/600], Loss: 0.0038\n",
            "Epoch [19/50], Step [600/600], Loss: 0.0026\n",
            "Epoch [20/50], Step [100/600], Loss: 0.0033\n",
            "Epoch [20/50], Step [200/600], Loss: 0.0055\n",
            "Epoch [20/50], Step [300/600], Loss: 0.0043\n",
            "Epoch [20/50], Step [400/600], Loss: 0.0053\n",
            "Epoch [20/50], Step [500/600], Loss: 0.0021\n",
            "Epoch [20/50], Step [600/600], Loss: 0.0046\n",
            "Epoch [21/50], Step [100/600], Loss: 0.0135\n",
            "Epoch [21/50], Step [200/600], Loss: 0.0031\n",
            "Epoch [21/50], Step [300/600], Loss: 0.0038\n",
            "Epoch [21/50], Step [400/600], Loss: 0.0051\n",
            "Epoch [21/50], Step [500/600], Loss: 0.0198\n",
            "Epoch [21/50], Step [600/600], Loss: 0.0044\n",
            "Epoch [22/50], Step [100/600], Loss: 0.0029\n",
            "Epoch [22/50], Step [200/600], Loss: 0.0042\n",
            "Epoch [22/50], Step [300/600], Loss: 0.0019\n",
            "Epoch [22/50], Step [400/600], Loss: 0.0048\n",
            "Epoch [22/50], Step [500/600], Loss: 0.0267\n",
            "Epoch [22/50], Step [600/600], Loss: 0.0038\n",
            "Epoch [23/50], Step [100/600], Loss: 0.0011\n",
            "Epoch [23/50], Step [200/600], Loss: 0.0054\n",
            "Epoch [23/50], Step [300/600], Loss: 0.0011\n",
            "Epoch [23/50], Step [400/600], Loss: 0.0015\n",
            "Epoch [23/50], Step [500/600], Loss: 0.0049\n",
            "Epoch [23/50], Step [600/600], Loss: 0.0008\n",
            "Epoch [24/50], Step [100/600], Loss: 0.0012\n",
            "Epoch [24/50], Step [200/600], Loss: 0.0011\n",
            "Epoch [24/50], Step [300/600], Loss: 0.0026\n",
            "Epoch [24/50], Step [400/600], Loss: 0.0037\n",
            "Epoch [24/50], Step [500/600], Loss: 0.0029\n",
            "Epoch [24/50], Step [600/600], Loss: 0.0290\n",
            "Epoch [25/50], Step [100/600], Loss: 0.0071\n",
            "Epoch [25/50], Step [200/600], Loss: 0.0058\n",
            "Epoch [25/50], Step [300/600], Loss: 0.0016\n",
            "Epoch [25/50], Step [400/600], Loss: 0.0126\n",
            "Epoch [25/50], Step [500/600], Loss: 0.0035\n",
            "Epoch [25/50], Step [600/600], Loss: 0.0081\n",
            "Epoch [26/50], Step [100/600], Loss: 0.0012\n",
            "Epoch [26/50], Step [200/600], Loss: 0.0028\n",
            "Epoch [26/50], Step [300/600], Loss: 0.0091\n",
            "Epoch [26/50], Step [400/600], Loss: 0.0050\n",
            "Epoch [26/50], Step [500/600], Loss: 0.0009\n",
            "Epoch [26/50], Step [600/600], Loss: 0.0091\n",
            "Epoch [27/50], Step [100/600], Loss: 0.0012\n",
            "Epoch [27/50], Step [200/600], Loss: 0.0003\n",
            "Epoch [27/50], Step [300/600], Loss: 0.0028\n",
            "Epoch [27/50], Step [400/600], Loss: 0.0048\n",
            "Epoch [27/50], Step [500/600], Loss: 0.0147\n",
            "Epoch [27/50], Step [600/600], Loss: 0.0012\n",
            "Epoch [28/50], Step [100/600], Loss: 0.0009\n",
            "Epoch [28/50], Step [200/600], Loss: 0.0019\n",
            "Epoch [28/50], Step [300/600], Loss: 0.0019\n",
            "Epoch [28/50], Step [400/600], Loss: 0.0007\n",
            "Epoch [28/50], Step [500/600], Loss: 0.0012\n",
            "Epoch [28/50], Step [600/600], Loss: 0.0009\n",
            "Epoch [29/50], Step [100/600], Loss: 0.0024\n",
            "Epoch [29/50], Step [200/600], Loss: 0.0005\n",
            "Epoch [29/50], Step [300/600], Loss: 0.0007\n",
            "Epoch [29/50], Step [400/600], Loss: 0.0007\n",
            "Epoch [29/50], Step [500/600], Loss: 0.0005\n",
            "Epoch [29/50], Step [600/600], Loss: 0.0011\n",
            "Epoch [30/50], Step [100/600], Loss: 0.0009\n",
            "Epoch [30/50], Step [200/600], Loss: 0.0005\n",
            "Epoch [30/50], Step [300/600], Loss: 0.0005\n",
            "Epoch [30/50], Step [400/600], Loss: 0.0004\n",
            "Epoch [30/50], Step [500/600], Loss: 0.0005\n",
            "Epoch [30/50], Step [600/600], Loss: 0.0011\n",
            "Epoch [31/50], Step [100/600], Loss: 0.0000\n",
            "Epoch [31/50], Step [200/600], Loss: 0.0057\n",
            "Epoch [31/50], Step [300/600], Loss: 0.0076\n",
            "Epoch [31/50], Step [400/600], Loss: 0.0057\n",
            "Epoch [31/50], Step [500/600], Loss: 0.0050\n",
            "Epoch [31/50], Step [600/600], Loss: 0.0025\n",
            "Epoch [32/50], Step [100/600], Loss: 0.0011\n",
            "Epoch [32/50], Step [200/600], Loss: 0.0007\n",
            "Epoch [32/50], Step [300/600], Loss: 0.0083\n",
            "Epoch [32/50], Step [400/600], Loss: 0.0050\n",
            "Epoch [32/50], Step [500/600], Loss: 0.0040\n",
            "Epoch [32/50], Step [600/600], Loss: 0.0022\n",
            "Epoch [33/50], Step [100/600], Loss: 0.0004\n",
            "Epoch [33/50], Step [200/600], Loss: 0.0002\n",
            "Epoch [33/50], Step [300/600], Loss: 0.0001\n",
            "Epoch [33/50], Step [400/600], Loss: 0.0004\n",
            "Epoch [33/50], Step [500/600], Loss: 0.0003\n",
            "Epoch [33/50], Step [600/600], Loss: 0.0002\n",
            "Epoch [34/50], Step [100/600], Loss: 0.0003\n",
            "Epoch [34/50], Step [200/600], Loss: 0.0003\n",
            "Epoch [34/50], Step [300/600], Loss: 0.0001\n",
            "Epoch [34/50], Step [400/600], Loss: 0.0005\n",
            "Epoch [34/50], Step [500/600], Loss: 0.0010\n",
            "Epoch [34/50], Step [600/600], Loss: 0.0003\n",
            "Epoch [35/50], Step [100/600], Loss: 0.0002\n",
            "Epoch [35/50], Step [200/600], Loss: 0.0006\n",
            "Epoch [35/50], Step [300/600], Loss: 0.0009\n",
            "Epoch [35/50], Step [400/600], Loss: 0.0005\n",
            "Epoch [35/50], Step [500/600], Loss: 0.0112\n",
            "Epoch [35/50], Step [600/600], Loss: 0.0045\n",
            "Epoch [36/50], Step [100/600], Loss: 0.0003\n",
            "Epoch [36/50], Step [200/600], Loss: 0.0015\n",
            "Epoch [36/50], Step [300/600], Loss: 0.0004\n",
            "Epoch [36/50], Step [400/600], Loss: 0.0052\n",
            "Epoch [36/50], Step [500/600], Loss: 0.0010\n",
            "Epoch [36/50], Step [600/600], Loss: 0.0027\n",
            "Epoch [37/50], Step [100/600], Loss: 0.0005\n",
            "Epoch [37/50], Step [200/600], Loss: 0.0004\n",
            "Epoch [37/50], Step [300/600], Loss: 0.0002\n",
            "Epoch [37/50], Step [400/600], Loss: 0.0014\n",
            "Epoch [37/50], Step [500/600], Loss: 0.0007\n",
            "Epoch [37/50], Step [600/600], Loss: 0.0211\n",
            "Epoch [38/50], Step [100/600], Loss: 0.0008\n",
            "Epoch [38/50], Step [200/600], Loss: 0.0006\n",
            "Epoch [38/50], Step [300/600], Loss: 0.0005\n",
            "Epoch [38/50], Step [400/600], Loss: 0.0005\n",
            "Epoch [38/50], Step [500/600], Loss: 0.0012\n",
            "Epoch [38/50], Step [600/600], Loss: 0.0032\n",
            "Epoch [39/50], Step [100/600], Loss: 0.0006\n",
            "Epoch [39/50], Step [200/600], Loss: 0.0011\n",
            "Epoch [39/50], Step [300/600], Loss: 0.0007\n",
            "Epoch [39/50], Step [400/600], Loss: 0.0002\n",
            "Epoch [39/50], Step [500/600], Loss: 0.0001\n",
            "Epoch [39/50], Step [600/600], Loss: 0.0004\n",
            "Epoch [40/50], Step [100/600], Loss: 0.0008\n",
            "Epoch [40/50], Step [200/600], Loss: 0.0136\n",
            "Epoch [40/50], Step [300/600], Loss: 0.0011\n",
            "Epoch [40/50], Step [400/600], Loss: 0.0173\n",
            "Epoch [40/50], Step [500/600], Loss: 0.0014\n",
            "Epoch [40/50], Step [600/600], Loss: 0.0010\n",
            "Epoch [41/50], Step [100/600], Loss: 0.0019\n",
            "Epoch [41/50], Step [200/600], Loss: 0.0013\n",
            "Epoch [41/50], Step [300/600], Loss: 0.0007\n",
            "Epoch [41/50], Step [400/600], Loss: 0.0018\n",
            "Epoch [41/50], Step [500/600], Loss: 0.0003\n",
            "Epoch [41/50], Step [600/600], Loss: 0.0000\n",
            "Epoch [42/50], Step [100/600], Loss: 0.0002\n",
            "Epoch [42/50], Step [200/600], Loss: 0.0005\n",
            "Epoch [42/50], Step [300/600], Loss: 0.0007\n",
            "Epoch [42/50], Step [400/600], Loss: 0.0014\n",
            "Epoch [42/50], Step [500/600], Loss: 0.0003\n",
            "Epoch [42/50], Step [600/600], Loss: 0.0002\n",
            "Epoch [43/50], Step [100/600], Loss: 0.0001\n",
            "Epoch [43/50], Step [200/600], Loss: 0.0002\n",
            "Epoch [43/50], Step [300/600], Loss: 0.0002\n",
            "Epoch [43/50], Step [400/600], Loss: 0.0002\n",
            "Epoch [43/50], Step [500/600], Loss: 0.0001\n",
            "Epoch [43/50], Step [600/600], Loss: 0.0004\n",
            "Epoch [44/50], Step [100/600], Loss: 0.0003\n",
            "Epoch [44/50], Step [200/600], Loss: 0.0001\n",
            "Epoch [44/50], Step [300/600], Loss: 0.0004\n",
            "Epoch [44/50], Step [400/600], Loss: 0.0002\n",
            "Epoch [44/50], Step [500/600], Loss: 0.0006\n",
            "Epoch [44/50], Step [600/600], Loss: 0.0005\n",
            "Epoch [45/50], Step [100/600], Loss: 0.0003\n",
            "Epoch [45/50], Step [200/600], Loss: 0.0002\n",
            "Epoch [45/50], Step [300/600], Loss: 0.0001\n",
            "Epoch [45/50], Step [400/600], Loss: 0.0009\n",
            "Epoch [45/50], Step [500/600], Loss: 0.0003\n",
            "Epoch [45/50], Step [600/600], Loss: 0.0010\n",
            "Epoch [46/50], Step [100/600], Loss: 0.0004\n",
            "Epoch [46/50], Step [200/600], Loss: 0.0004\n",
            "Epoch [46/50], Step [300/600], Loss: 0.0003\n",
            "Epoch [46/50], Step [400/600], Loss: 0.0002\n",
            "Epoch [46/50], Step [500/600], Loss: 0.0001\n",
            "Epoch [46/50], Step [600/600], Loss: 0.0001\n",
            "Epoch [47/50], Step [100/600], Loss: 0.0003\n",
            "Epoch [47/50], Step [200/600], Loss: 0.0001\n",
            "Epoch [47/50], Step [300/600], Loss: 0.0005\n",
            "Epoch [47/50], Step [400/600], Loss: 0.0001\n",
            "Epoch [47/50], Step [500/600], Loss: 0.0730\n",
            "Epoch [47/50], Step [600/600], Loss: 0.0478\n",
            "Epoch [48/50], Step [100/600], Loss: 0.0199\n",
            "Epoch [48/50], Step [200/600], Loss: 0.0095\n",
            "Epoch [48/50], Step [300/600], Loss: 0.0133\n",
            "Epoch [48/50], Step [400/600], Loss: 0.0007\n",
            "Epoch [48/50], Step [500/600], Loss: 0.0012\n",
            "Epoch [48/50], Step [600/600], Loss: 0.0002\n",
            "Epoch [49/50], Step [100/600], Loss: 0.0003\n",
            "Epoch [49/50], Step [200/600], Loss: 0.0001\n",
            "Epoch [49/50], Step [300/600], Loss: 0.0001\n",
            "Epoch [49/50], Step [400/600], Loss: 0.0001\n",
            "Epoch [49/50], Step [500/600], Loss: 0.0001\n",
            "Epoch [49/50], Step [600/600], Loss: 0.0006\n",
            "Epoch [50/50], Step [100/600], Loss: 0.0001\n",
            "Epoch [50/50], Step [200/600], Loss: 0.0001\n",
            "Epoch [50/50], Step [300/600], Loss: 0.0001\n",
            "Epoch [50/50], Step [400/600], Loss: 0.0005\n",
            "Epoch [50/50], Step [500/600], Loss: 0.0005\n",
            "Epoch [50/50], Step [600/600], Loss: 0.0001\n"
          ]
        }
      ]
    },
    {
      "cell_type": "code",
      "metadata": {
        "colab": {
          "base_uri": "https://localhost:8080/"
        },
        "id": "y4GBW_0S0OK1",
        "outputId": "8d6ba40c-95b6-4e6a-970b-14ba2dec7e3c"
      },
      "source": [
        "#test\n",
        "with torch.no_grad():\n",
        "  n_correct = 0\n",
        "  n_samples = 0\n",
        "\n",
        "  for images, labels in test_loader:\n",
        "    images = images.reshape(-1,28*28).to(device)\n",
        "    labels = labels.to(device)\n",
        "    outputs = model(images)\n",
        "\n",
        "    #value, index\n",
        "    _,predictions = torch.max(outputs,1)\n",
        "    n_samples += labels.shape[0]\n",
        "    n_correct += (predictions == labels).sum().item()\n",
        "\n",
        "  acc = 100 * n_correct / n_samples\n",
        "  print(\"Accuracy: \", acc)\n"
      ],
      "execution_count": 107,
      "outputs": [
        {
          "output_type": "stream",
          "name": "stdout",
          "text": [
            "Accuracy:  97.7\n"
          ]
        }
      ]
    },
    {
      "cell_type": "markdown",
      "metadata": {
        "id": "cmpQ1eH0UF5d"
      },
      "source": [
        "#Testing Manually"
      ]
    },
    {
      "cell_type": "code",
      "metadata": {
        "id": "TwpNLDfVQUtc"
      },
      "source": [
        "import torchvision.transforms as T\n",
        "\n",
        "from PIL import Image"
      ],
      "execution_count": 93,
      "outputs": []
    },
    {
      "cell_type": "code",
      "metadata": {
        "id": "QAu_FtA2oCvw"
      },
      "source": [
        "def image_processing(photo):\n",
        "  \n",
        "  img = Image.open(photo)\n",
        "  \n",
        "  making_single_channel = T.Compose([T.Grayscale(),T.Scale((28,28)),T.ToTensor()])\n",
        "  p = T.Compose([T.Scale((28,28)),T.ToTensor()])\n",
        "  x = p(img)\n",
        "  \n",
        "  if x.shape[0] != 1:\n",
        "    x = making_single_channel(img)\n",
        "    \n",
        "  x = x.reshape(-1,28*28).to(device)\n",
        "  \n",
        "  return x\n",
        "\n"
      ],
      "execution_count": 167,
      "outputs": []
    },
    {
      "cell_type": "code",
      "metadata": {
        "id": "Qwn0RMk_pwa4"
      },
      "source": [
        "#prediction\n",
        "def prediction(x):\n",
        "  \n",
        "  pred = model(x)\n",
        "  \n",
        "  _,predict = torch.max(pred,1)\n",
        "  \n",
        "  return predict[0].item()"
      ],
      "execution_count": 181,
      "outputs": []
    },
    {
      "cell_type": "code",
      "metadata": {
        "colab": {
          "base_uri": "https://localhost:8080/",
          "height": 643
        },
        "id": "OQ6Mt4_B3eOq",
        "outputId": "af3bd228-b121-4887-bee1-4daaca749da1"
      },
      "source": [
        "img = Image.open(\"two.png\")\n",
        "img"
      ],
      "execution_count": 175,
      "outputs": [
        {
          "output_type": "execute_result",
          "data": {
            "image/png": "[encoded data removed]",
            "text/plain": [
              "<PIL.PngImagePlugin.PngImageFile image mode=RGB size=1152x648 at 0x7FE278EE8A90>"
            ]
          },
          "metadata": {},
          "execution_count": 175
        }
      ]
    },
    {
      "cell_type": "code",
      "metadata": {
        "colab": {
          "base_uri": "https://localhost:8080/"
        },
        "id": "cT_BUkofqv2Y",
        "outputId": "2cf55df5-a62f-4d91-ae47-9f9d8ddfe6c6"
      },
      "source": [
        "#TEST Run\n",
        "img = image_processing(\"two.png\")\n",
        "output = prediction(img)\n",
        "print(f\"The predicted value is: {output}\")"
      ],
      "execution_count": 177,
      "outputs": [
        {
          "output_type": "stream",
          "name": "stdout",
          "text": [
            "The predicted value is: 2\n"
          ]
        },
        {
          "output_type": "stream",
          "name": "stderr",
          "text": [
            "/usr/local/lib/python3.7/dist-packages/torchvision/transforms/transforms.py:310: UserWarning: The use of the transforms.Scale transform is deprecated, please use transforms.Resize instead.\n",
            "  warnings.warn(\"The use of the transforms.Scale transform is deprecated, \" +\n"
          ]
        }
      ]
    }
  ]
}