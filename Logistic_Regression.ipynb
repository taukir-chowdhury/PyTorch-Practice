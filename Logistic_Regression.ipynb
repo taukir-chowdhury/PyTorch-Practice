{
  "nbformat": 4,
  "nbformat_minor": 0,
  "metadata": {
    "colab": {
      "name": "Logistic Regression.ipynb",
      "provenance": [],
      "collapsed_sections": [],
      "authorship_tag": "ABX9TyNW3cx00tFOZi18GXI2JNdG",
      "include_colab_link": true
    },
    "kernelspec": {
      "name": "python3",
      "display_name": "Python 3"
    },
    "language_info": {
      "name": "python"
    }
  },
  "cells": [
    {
      "cell_type": "markdown",
      "metadata": {
        "id": "view-in-github",
        "colab_type": "text"
      },
      "source": [
        "<a href=\"https://colab.research.google.com/github/taukirazam16/PyTorch-Practice/blob/main/Logistic_Regression.ipynb\" target=\"_parent\"><img src=\"https://colab.research.google.com/assets/colab-badge.svg\" alt=\"Open In Colab\"/></a>"
      ]
    },
    {
      "cell_type": "markdown",
      "metadata": {
        "id": "TKdyIJ4yiZNU"
      },
      "source": [
        "#Logistic Regression \n",
        "1) Design Model (input, output size, forward pass)<br>\n",
        "2) Construct loss and optimizer<br>\n",
        "3) Trainging Loop<br>\n",
        "      a) Forward Pass: compute prediction<br>\n",
        "      b) backward Pass: Gradients<br>\n",
        "      c) update weights<br>"
      ]
    },
    {
      "cell_type": "code",
      "metadata": {
        "id": "W6w2WBSEiWto"
      },
      "source": [
        "import torch\n",
        "import torch.nn as nn\n",
        "from sklearn import datasets\n",
        "import numpy as np\n",
        "from sklearn.preprocessing import StandardScaler\n",
        "import matplotlib.pyplot as plt\n",
        "from sklearn.model_selection import train_test_split"
      ],
      "execution_count": 1,
      "outputs": []
    },
    {
      "cell_type": "markdown",
      "metadata": {
        "id": "I1LV4eXFi5pU"
      },
      "source": [
        "**1) Preparing the Data**"
      ]
    },
    {
      "cell_type": "code",
      "metadata": {
        "colab": {
          "base_uri": "https://localhost:8080/"
        },
        "id": "3G_3JlfKi32D",
        "outputId": "6f1f506f-bfe8-467f-ede0-024d9abd7322"
      },
      "source": [
        "bc = datasets.load_breast_cancer()\n",
        "X, y = bc.data, bc.target\n",
        "X.shape"
      ],
      "execution_count": 3,
      "outputs": [
        {
          "output_type": "execute_result",
          "data": {
            "text/plain": [
              "(569, 30)"
            ]
          },
          "metadata": {
            "tags": []
          },
          "execution_count": 3
        }
      ]
    },
    {
      "cell_type": "code",
      "metadata": {
        "colab": {
          "base_uri": "https://localhost:8080/"
        },
        "id": "64nej6DKjV_5",
        "outputId": "798e75cc-ce1e-4e42-a497-f7aa66b212b8"
      },
      "source": [
        "n_samples, n_features = X.shape\n",
        "print(n_samples, n_features)"
      ],
      "execution_count": 4,
      "outputs": [
        {
          "output_type": "stream",
          "text": [
            "569 30\n"
          ],
          "name": "stdout"
        }
      ]
    },
    {
      "cell_type": "code",
      "metadata": {
        "colab": {
          "base_uri": "https://localhost:8080/"
        },
        "id": "ttRNKo7MjhRn",
        "outputId": "e9369d01-fdaa-4a4d-c297-09013277e8e8"
      },
      "source": [
        "X_train, X_test, y_train, y_test = train_test_split(X,y, test_size = 0.2, random_state = 41)\n",
        "X_train.shape"
      ],
      "execution_count": 5,
      "outputs": [
        {
          "output_type": "execute_result",
          "data": {
            "text/plain": [
              "(455, 30)"
            ]
          },
          "metadata": {
            "tags": []
          },
          "execution_count": 5
        }
      ]
    },
    {
      "cell_type": "code",
      "metadata": {
        "id": "UBkvacf-j4Gr"
      },
      "source": [
        "#scaling\n",
        "sc = StandardScaler()\n",
        "X_train = sc.fit_transform(X_train)\n",
        "X_test = sc.fit_transform(X_test)\n"
      ],
      "execution_count": 6,
      "outputs": []
    },
    {
      "cell_type": "code",
      "metadata": {
        "colab": {
          "base_uri": "https://localhost:8080/"
        },
        "id": "jzVgSFb0kL6y",
        "outputId": "539f5a27-c82e-48f2-bf64-af972afc0912"
      },
      "source": [
        "#Transforming to Tensor\n",
        "\n",
        "X_train = torch.from_numpy(X_train.astype(np.float32))\n",
        "X_test = torch.from_numpy(X_test.astype(np.float32))\n",
        "X_train.shape"
      ],
      "execution_count": 7,
      "outputs": [
        {
          "output_type": "execute_result",
          "data": {
            "text/plain": [
              "torch.Size([455, 30])"
            ]
          },
          "metadata": {
            "tags": []
          },
          "execution_count": 7
        }
      ]
    },
    {
      "cell_type": "code",
      "metadata": {
        "colab": {
          "base_uri": "https://localhost:8080/"
        },
        "id": "SU66RZpckvns",
        "outputId": "e3122a11-cec3-4184-d962-71d092f1bb21"
      },
      "source": [
        "y_train = torch.from_numpy(y_train.astype(np.float32))\n",
        "y_test = torch.from_numpy(y_test.astype(np.float32))\n",
        "y_test.shape"
      ],
      "execution_count": 8,
      "outputs": [
        {
          "output_type": "execute_result",
          "data": {
            "text/plain": [
              "torch.Size([114])"
            ]
          },
          "metadata": {
            "tags": []
          },
          "execution_count": 8
        }
      ]
    },
    {
      "cell_type": "code",
      "metadata": {
        "id": "BgBlBVulk5bu"
      },
      "source": [
        "# Reshaping Y\n",
        "y_train = y_train.view(y_train.shape[0],1)\n",
        "y_test = y_test.view(y_test.shape[0],1)\n"
      ],
      "execution_count": 9,
      "outputs": []
    },
    {
      "cell_type": "markdown",
      "metadata": {
        "id": "h3sjwgiZlXHT"
      },
      "source": [
        "**2) Model**"
      ]
    },
    {
      "cell_type": "code",
      "metadata": {
        "id": "ZQjC4EL5laMs"
      },
      "source": [
        "class LogisticRegression(nn.Module):\n",
        "  def __init__(self, n_input_features):\n",
        "    super(LogisticRegression, self).__init__()\n",
        "    self.linear = nn.Linear(n_input_features,1)\n",
        "  \n",
        "  def forward(self, x):\n",
        "    y_predicted = torch.sigmoid(self.linear(x))\n",
        "    return y_predicted\n"
      ],
      "execution_count": 10,
      "outputs": []
    },
    {
      "cell_type": "code",
      "metadata": {
        "id": "Eu5btK9_nDRz"
      },
      "source": [
        "model = LogisticRegression(n_features)"
      ],
      "execution_count": 11,
      "outputs": []
    },
    {
      "cell_type": "markdown",
      "metadata": {
        "id": "m-H8_H0Pmq-5"
      },
      "source": [
        "**3) Loss and Optimizer**"
      ]
    },
    {
      "cell_type": "code",
      "metadata": {
        "id": "6EwuVCxAnOrT"
      },
      "source": [
        "learning_rate = 0.01"
      ],
      "execution_count": 12,
      "outputs": []
    },
    {
      "cell_type": "code",
      "metadata": {
        "id": "Pzh9Ai98mv65"
      },
      "source": [
        "criterion = nn.BCELoss()\n",
        "optimizer = torch.optim.SGD(model.parameters(), lr = learning_rate)"
      ],
      "execution_count": 13,
      "outputs": []
    },
    {
      "cell_type": "markdown",
      "metadata": {
        "id": "2GHNWLSfnWWN"
      },
      "source": [
        "**4) Training Loop**"
      ]
    },
    {
      "cell_type": "code",
      "metadata": {
        "colab": {
          "base_uri": "https://localhost:8080/"
        },
        "id": "GtHpyyyJnUps",
        "outputId": "dc2b9160-b6ac-441c-9c8a-67cfd0362fca"
      },
      "source": [
        "num_epochs = 100\n",
        "for epoch in range(num_epochs):\n",
        "  #forward\n",
        "\n",
        "  y_pred = model(X_train)\n",
        "\n",
        "  #loss\n",
        "\n",
        "  loss = criterion(y_pred, y_train)\n",
        "\n",
        "  #backward\n",
        "\n",
        "  loss.backward()\n",
        "\n",
        "  #update\n",
        "\n",
        "  optimizer.step()\n",
        "  \n",
        "  #zero gradient\n",
        "  optimizer.zero_grad()\n",
        "\n",
        "\n",
        "  if (epoch + 1) % 10 == 0:\n",
        "    print(f\"epoch: {epoch+1}: loss = {loss.item():.4f}\")\n",
        "    "
      ],
      "execution_count": 14,
      "outputs": [
        {
          "output_type": "stream",
          "text": [
            "epoch: 10: loss = 0.4627\n",
            "epoch: 20: loss = 0.3984\n",
            "epoch: 30: loss = 0.3547\n",
            "epoch: 40: loss = 0.3229\n",
            "epoch: 50: loss = 0.2985\n",
            "epoch: 60: loss = 0.2793\n",
            "epoch: 70: loss = 0.2636\n",
            "epoch: 80: loss = 0.2505\n",
            "epoch: 90: loss = 0.2394\n",
            "epoch: 100: loss = 0.2299\n"
          ],
          "name": "stdout"
        }
      ]
    },
    {
      "cell_type": "markdown",
      "metadata": {
        "id": "AHyjkaFMoipE"
      },
      "source": [
        "**Evaluation**"
      ]
    },
    {
      "cell_type": "code",
      "metadata": {
        "colab": {
          "base_uri": "https://localhost:8080/"
        },
        "id": "33vnEc2Fogno",
        "outputId": "fa62a797-dcb6-4c9e-880a-267f4480007b"
      },
      "source": [
        "with torch.no_grad():\n",
        "  y_predicted = model(X_test)\n",
        "  y_predicted_cls = y_predicted.round() # if more than .5, it will be 1\n",
        "  acc = y_predicted_cls.eq(y_test).sum() /float(y_test.shape[0])\n",
        "  print(f'accuracy is {acc:.4f}')\n",
        "\n"
      ],
      "execution_count": 15,
      "outputs": [
        {
          "output_type": "stream",
          "text": [
            "accuracy is 0.9825\n"
          ],
          "name": "stdout"
        }
      ]
    }
  ]
}